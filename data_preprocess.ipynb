{
 "cells": [
  {
   "cell_type": "code",
   "execution_count": 1,
   "metadata": {},
   "outputs": [],
   "source": [
    "import pandas as pd\n",
    "import sys,json,pickle,re\n",
    "from utils import *\n",
    "from config import *"
   ]
  },
  {
   "attachments": {},
   "cell_type": "markdown",
   "metadata": {},
   "source": [
    "Original file downloaded from Github (https://github.com/t-davidson/hate-speech-and-offensive-language)"
   ]
  },
  {
   "cell_type": "code",
   "execution_count": 2,
   "metadata": {},
   "outputs": [],
   "source": [
    "train_file = \"data/labeled_data.csv\""
   ]
  },
  {
   "attachments": {},
   "cell_type": "markdown",
   "metadata": {},
   "source": [
    "Load Train data in dataframe"
   ]
  },
  {
   "cell_type": "code",
   "execution_count": 3,
   "metadata": {},
   "outputs": [
    {
     "name": "stdout",
     "output_type": "stream",
     "text": [
      "   Unnamed: 0  count  hate_speech  offensive_language  neither  class  \\\n",
      "0           0      3            0                   0        3      2   \n",
      "1           1      3            0                   3        0      1   \n",
      "2           2      3            0                   3        0      1   \n",
      "3           3      3            0                   2        1      1   \n",
      "4           4      6            0                   6        0      1   \n",
      "\n",
      "                                               tweet  \n",
      "0  !!! RT @mayasolovely: As a woman you shouldn't...  \n",
      "1  !!!!! RT @mleew17: boy dats cold...tyga dwn ba...  \n",
      "2  !!!!!!! RT @UrKindOfBrand Dawg!!!! RT @80sbaby...  \n",
      "3  !!!!!!!!! RT @C_G_Anderson: @viva_based she lo...  \n",
      "4  !!!!!!!!!!!!! RT @ShenikaRoberts: The shit you...  \n"
     ]
    }
   ],
   "source": [
    "train_df = pd.read_csv(train_file)\n",
    "print(train_df.head())"
   ]
  },
  {
   "attachments": {},
   "cell_type": "markdown",
   "metadata": {},
   "source": [
    "Find Unique labels and create label map"
   ]
  },
  {
   "cell_type": "code",
   "execution_count": 5,
   "metadata": {},
   "outputs": [
    {
     "name": "stdout",
     "output_type": "stream",
     "text": [
      "[2, 1, 0]\n"
     ]
    }
   ],
   "source": [
    "# 0 - hate speech 1 - offensive language 2 - neither as found in documentation\n",
    "labels = list(train_df[\"class\"].unique())\n",
    "print(labels)\n",
    "label2ind = {\"hate_speech\":0,\"offensive_language\":1,\"neither\":2}\n",
    "ind2label = {i:l for l,i in label2ind.items()}\n",
    "with open(\"data/label2ind.json\",\"w\") as f:\n",
    "    json.dump(label2ind,f,indent=1)\n",
    "with open(\"data/ind2label.json\",\"w\") as f:\n",
    "    json.dump(ind2label,f,indent=1)"
   ]
  },
  {
   "attachments": {},
   "cell_type": "markdown",
   "metadata": {},
   "source": [
    "Create a new dataframe with only text and label columnn, also dump in CSV"
   ]
  },
  {
   "cell_type": "code",
   "execution_count": 15,
   "metadata": {},
   "outputs": [
    {
     "name": "stderr",
     "output_type": "stream",
     "text": [
      "/tmp/ipykernel_8875/1922641134.py:2: SettingWithCopyWarning: \n",
      "A value is trying to be set on a copy of a slice from a DataFrame.\n",
      "Try using .loc[row_indexer,col_indexer] = value instead\n",
      "\n",
      "See the caveats in the documentation: https://pandas.pydata.org/pandas-docs/stable/user_guide/indexing.html#returning-a-view-versus-a-copy\n",
      "  new_train_df[\"class\"] = new_train_df[\"class\"].map(lambda x:ind2label[x])\n"
     ]
    },
    {
     "name": "stdout",
     "output_type": "stream",
     "text": [
      "                                               tweet               class\n",
      "0  As a woman you shouldn t complain about cleani...             neither\n",
      "1  boy dats cold tyga dwn bad for cuffin dat hoe ...  offensive_language\n",
      "2  Dawg You ever fuck a bitch and she start to cr...  offensive_language\n",
      "3            G Anderson based she look like a tranny  offensive_language\n",
      "4  The shit you hear about me might be true or it...  offensive_language\n"
     ]
    },
    {
     "name": "stderr",
     "output_type": "stream",
     "text": [
      "/tmp/ipykernel_8875/1922641134.py:3: SettingWithCopyWarning: \n",
      "A value is trying to be set on a copy of a slice from a DataFrame.\n",
      "Try using .loc[row_indexer,col_indexer] = value instead\n",
      "\n",
      "See the caveats in the documentation: https://pandas.pydata.org/pandas-docs/stable/user_guide/indexing.html#returning-a-view-versus-a-copy\n",
      "  new_train_df[\"tweet\"] = new_train_df[\"tweet\"].map(lambda x:' '.join(re.sub(\"(@[A-Za-z0-9]+)|([^0-9A-Za-z \\t])|(\\w+:\\/\\/\\S+)|RT\",\" \",x).split()))\n"
     ]
    }
   ],
   "source": [
    "new_train_df = train_df[[\"tweet\",\"class\"]]\n",
    "new_train_df[\"class\"] = new_train_df[\"class\"].map(lambda x:ind2label[x])\n",
    "new_train_df[\"tweet\"] = new_train_df[\"tweet\"].map(lambda x:' '.join(re.sub(\"(@[A-Za-z0-9]+)|([^0-9A-Za-z \\t])|(\\w+:\\/\\/\\S+)|RT\",\" \",x).split()))\n",
    "print(new_train_df.head())\n",
    "train_file_path = \"data/hate_speech_train.csv\"\n",
    "new_train_df.to_csv(train_file_path,sep=\"@\")"
   ]
  },
  {
   "attachments": {},
   "cell_type": "markdown",
   "metadata": {},
   "source": [
    "Prepare Train and Validation set"
   ]
  },
  {
   "cell_type": "code",
   "execution_count": 2,
   "metadata": {},
   "outputs": [
    {
     "name": "stdout",
     "output_type": "stream",
     "text": [
      "Total 13881 x_train, 13881 y_train\n",
      "Total 7433 x_val, 7433 y_val\n",
      "Total 3469 x_test, 3469 y_test\n"
     ]
    }
   ],
   "source": [
    "# load all data\n",
    "all_texts,all_labels = load_partial_data(train_csv_file,n=-1)\n",
    "# split data in Train and Validation\n",
    "train_data,val_data = split_for_train(all_texts,all_labels)\n",
    "x_train,y_train = train_data[0],train_data[1]\n",
    "x_val,y_val = val_data[0],val_data[1]\n",
    "# Further split Train data in Test as Original Kaggle Test data does not have labels\n",
    "train_data,test_data = split_for_train(x_train,y_train,val_split=0.2)\n",
    "x_train,y_train = train_data[0],train_data[1]\n",
    "x_test,y_test = test_data[0],test_data[1]\n",
    "print(\"Total %d x_train, %d y_train\"%(len(x_train),len(y_train)))\n",
    "print(\"Total %d x_val, %d y_val\"%(len(x_val),len(y_val)))\n",
    "print(\"Total %d x_test, %d y_test\"%(len(x_test),len(y_test)))"
   ]
  },
  {
   "attachments": {},
   "cell_type": "markdown",
   "metadata": {},
   "source": [
    "Dump all the data in PKL file"
   ]
  },
  {
   "cell_type": "code",
   "execution_count": 3,
   "metadata": {},
   "outputs": [],
   "source": [
    "with open(train_pkl,\"wb\") as f:\n",
    "    pickle.dump((x_train,y_train),f)\n",
    "with open(test_pkl,\"wb\") as f:\n",
    "    pickle.dump((x_test,y_test),f)\n",
    "with open(validation_pkl,\"wb\") as f:\n",
    "    pickle.dump((x_val,y_val),f)"
   ]
  },
  {
   "attachments": {},
   "cell_type": "markdown",
   "metadata": {},
   "source": [
    "Load Original Kaggle Test data "
   ]
  },
  {
   "cell_type": "code",
   "execution_count": 8,
   "metadata": {},
   "outputs": [
    {
     "name": "stderr",
     "output_type": "stream",
     "text": [
      "/tmp/ipykernel_12020/889731494.py:1: ParserWarning: Falling back to the 'python' engine because the 'c' engine does not support regex separators (separators > 1 char and different from '\\s+' are interpreted as regex); you can avoid this warning by specifying engine='python'.\n",
      "  test_df = pd.read_csv(test_file,delimiter=\" ::: \")\n"
     ]
    },
    {
     "name": "stdout",
     "output_type": "stream",
     "text": [
      "   1         Edgar's Lunch (1998)  \\\n",
      "0  2     La guerra de papá (1977)   \n",
      "1  3  Off the Beaten Track (2010)   \n",
      "2  4       Meu Amigo Hindu (2015)   \n",
      "3  5            Er nu zhai (1955)   \n",
      "4  6           Riddle Room (2016)   \n",
      "\n",
      "  L.R. Brane loves his life - his car, his apartment, his job, but especially his girlfriend, Vespa. One day while showering, Vespa runs out of shampoo. L.R. runs across the street to a convenience store to buy some more, a quick trip of no more than a few minutes. When he returns, Vespa is gone and every trace of her existence has been wiped out. L.R.'s life becomes a tortured existence as one strange event after another occurs to confirm in his mind that a conspiracy is working against his finding Vespa.  \n",
      "0  Spain, March 1964: Quico is a very naughty chi...                                                                                                                                                                                                                                                                                                                                                                                                                                                                             \n",
      "1  One year in the life of Albin and his family o...                                                                                                                                                                                                                                                                                                                                                                                                                                                                             \n",
      "2  His father has died, he hasn't spoken with his...                                                                                                                                                                                                                                                                                                                                                                                                                                                                             \n",
      "3  Before he was known internationally as a marti...                                                                                                                                                                                                                                                                                                                                                                                                                                                                             \n",
      "4  Emily Burns is being held captive in a room wi...                                                                                                                                                                                                                                                                                                                                                                                                                                                                             \n"
     ]
    }
   ],
   "source": [
    "test_df = pd.read_csv(test_file,delimiter=\" ::: \")\n",
    "print(test_df.head())"
   ]
  }
 ],
 "metadata": {
  "kernelspec": {
   "display_name": "tatras_p310",
   "language": "python",
   "name": "python3"
  },
  "language_info": {
   "codemirror_mode": {
    "name": "ipython",
    "version": 3
   },
   "file_extension": ".py",
   "mimetype": "text/x-python",
   "name": "python",
   "nbconvert_exporter": "python",
   "pygments_lexer": "ipython3",
   "version": "3.10.6"
  },
  "orig_nbformat": 4
 },
 "nbformat": 4,
 "nbformat_minor": 2
}
