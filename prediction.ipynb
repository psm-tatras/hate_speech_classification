{
 "cells": [
  {
   "cell_type": "code",
   "execution_count": 1,
   "metadata": {},
   "outputs": [],
   "source": [
    "%load_ext autoreload\n",
    "%autoreload 2"
   ]
  },
  {
   "cell_type": "code",
   "execution_count": 9,
   "metadata": {},
   "outputs": [],
   "source": [
    "from utils import *\n",
    "from model import *\n",
    "import matplotlib.pyplot as plt"
   ]
  },
  {
   "cell_type": "code",
   "execution_count": 3,
   "metadata": {},
   "outputs": [
    {
     "name": "stdout",
     "output_type": "stream",
     "text": [
      "1485 Validation Data loaded\n"
     ]
    }
   ],
   "source": [
    "# load all test data\n",
    "x_test,y_test = load_pkl_data(test_pkl)\n",
    "print(\"%d Validation Data loaded\"%(len(x_test)))"
   ]
  },
  {
   "cell_type": "code",
   "execution_count": 4,
   "metadata": {},
   "outputs": [
    {
     "name": "stdout",
     "output_type": "stream",
     "text": [
      "Labels loaded\n",
      "Total 3 classes\n"
     ]
    }
   ],
   "source": [
    "# load label maps\n",
    "label2ind = load_dict_from_json(label2ind_json)\n",
    "ind2label = load_dict_from_json(ind2label_json)\n",
    "print(\"Labels loaded\")\n",
    "nc = len(label2ind.keys())\n",
    "print(\"Total %d classes\"%nc)"
   ]
  },
  {
   "cell_type": "code",
   "execution_count": 5,
   "metadata": {},
   "outputs": [
    {
     "name": "stderr",
     "output_type": "stream",
     "text": [
      "2023-03-22 12:40:16.345861: I tensorflow/compiler/xla/stream_executor/cuda/cuda_gpu_executor.cc:981] successful NUMA node read from SysFS had negative value (-1), but there must be at least one NUMA node, so returning NUMA node zero\n",
      "2023-03-22 12:40:16.346376: W tensorflow/compiler/xla/stream_executor/platform/default/dso_loader.cc:64] Could not load dynamic library 'libcudart.so.11.0'; dlerror: libcudart.so.11.0: cannot open shared object file: No such file or directory\n",
      "2023-03-22 12:40:16.347064: W tensorflow/compiler/xla/stream_executor/platform/default/dso_loader.cc:64] Could not load dynamic library 'libcublas.so.11'; dlerror: libcublas.so.11: cannot open shared object file: No such file or directory\n",
      "2023-03-22 12:40:16.347346: W tensorflow/compiler/xla/stream_executor/platform/default/dso_loader.cc:64] Could not load dynamic library 'libcublasLt.so.11'; dlerror: libcublasLt.so.11: cannot open shared object file: No such file or directory\n",
      "2023-03-22 12:40:16.347639: W tensorflow/compiler/xla/stream_executor/platform/default/dso_loader.cc:64] Could not load dynamic library 'libcufft.so.10'; dlerror: libcufft.so.10: cannot open shared object file: No such file or directory\n",
      "2023-03-22 12:40:16.347873: W tensorflow/compiler/xla/stream_executor/platform/default/dso_loader.cc:64] Could not load dynamic library 'libcurand.so.10'; dlerror: libcurand.so.10: cannot open shared object file: No such file or directory\n",
      "2023-03-22 12:40:16.347970: W tensorflow/compiler/xla/stream_executor/platform/default/dso_loader.cc:64] Could not load dynamic library 'libcusolver.so.11'; dlerror: libcusolver.so.11: cannot open shared object file: No such file or directory\n",
      "2023-03-22 12:40:16.348296: W tensorflow/compiler/xla/stream_executor/platform/default/dso_loader.cc:64] Could not load dynamic library 'libcusparse.so.11'; dlerror: libcusparse.so.11: cannot open shared object file: No such file or directory\n",
      "2023-03-22 12:40:16.348379: W tensorflow/compiler/xla/stream_executor/platform/default/dso_loader.cc:64] Could not load dynamic library 'libcudnn.so.8'; dlerror: libcudnn.so.8: cannot open shared object file: No such file or directory\n",
      "2023-03-22 12:40:16.348398: W tensorflow/core/common_runtime/gpu/gpu_device.cc:1934] Cannot dlopen some GPU libraries. Please make sure the missing libraries mentioned above are installed properly if you would like to use GPU. Follow the guide at https://www.tensorflow.org/install/gpu for how to download and setup the required libraries for your platform.\n",
      "Skipping registering GPU devices...\n",
      "2023-03-22 12:40:16.351032: I tensorflow/core/platform/cpu_feature_guard.cc:193] This TensorFlow binary is optimized with oneAPI Deep Neural Network Library (oneDNN) to use the following CPU instructions in performance-critical operations:  AVX2 FMA\n",
      "To enable them in other operations, rebuild TensorFlow with the appropriate compiler flags.\n",
      "2023-03-22 12:40:32.986640: W tensorflow/tsl/framework/cpu_allocator_impl.cc:82] Allocation of 15627264 exceeds 10% of free system memory.\n",
      "2023-03-22 12:40:33.014796: W tensorflow/tsl/framework/cpu_allocator_impl.cc:82] Allocation of 15627264 exceeds 10% of free system memory.\n",
      "2023-03-22 12:40:33.019838: W tensorflow/tsl/framework/cpu_allocator_impl.cc:82] Allocation of 15627264 exceeds 10% of free system memory.\n",
      "2023-03-22 12:40:33.255874: W tensorflow/tsl/framework/cpu_allocator_impl.cc:82] Allocation of 15627264 exceeds 10% of free system memory.\n",
      "Some weights of the PyTorch model were not used when initializing the TF 2.0 model TFBertModel: ['cls.predictions.transform.dense.bias', 'bert.embeddings.position_ids', 'cls.predictions.decoder.bias', 'cls.predictions.transform.dense.weight', 'cls.predictions.transform.LayerNorm.bias', 'cls.predictions.transform.LayerNorm.weight', 'cls.seq_relationship.weight', 'cls.seq_relationship.bias', 'cls.predictions.decoder.weight', 'cls.predictions.bias']\n",
      "- This IS expected if you are initializing TFBertModel from a PyTorch model trained on another task or with another architecture (e.g. initializing a TFBertForSequenceClassification model from a BertForPreTraining model).\n",
      "- This IS NOT expected if you are initializing TFBertModel from a PyTorch model that you expect to be exactly identical (e.g. initializing a TFBertForSequenceClassification model from a BertForSequenceClassification model).\n",
      "All the weights of TFBertModel were initialized from the PyTorch model.\n",
      "If your task is similar to the task the model of the checkpoint was trained on, you can already use TFBertModel for predictions without further training.\n"
     ]
    },
    {
     "name": "stdout",
     "output_type": "stream",
     "text": [
      "Model created\n"
     ]
    }
   ],
   "source": [
    "model = AttentionClassifier(nc)\n",
    "print(\"Model created\")"
   ]
  },
  {
   "cell_type": "code",
   "execution_count": 6,
   "metadata": {},
   "outputs": [
    {
     "name": "stdout",
     "output_type": "stream",
     "text": [
      "Model restored weights from model/ckpt-15\n"
     ]
    },
    {
     "name": "stderr",
     "output_type": "stream",
     "text": [
      "2023-03-22 12:40:44.207009: W tensorflow/tsl/framework/cpu_allocator_impl.cc:82] Allocation of 15627264 exceeds 10% of free system memory.\n"
     ]
    }
   ],
   "source": [
    "model.load_model(\"model/\")"
   ]
  },
  {
   "cell_type": "code",
   "execution_count": 121,
   "metadata": {},
   "outputs": [
    {
     "name": "stdout",
     "output_type": "stream",
     "text": [
      "Random Index 771\n",
      "When yall got the same baby mama and realize that bitch is the real enemy\n",
      "Label: offensive_language\n"
     ]
    }
   ],
   "source": [
    "# take a random data from test\n",
    "n_test = len(x_test)\n",
    "rand_idx = np.random.randint(0,n_test)\n",
    "print(\"Random Index %d\"%rand_idx)\n",
    "test_tweet = x_test[rand_idx]\n",
    "test_label = y_test[rand_idx]\n",
    "print(test_tweet)\n",
    "print(\"Label: %s\"%test_label)"
   ]
  },
  {
   "cell_type": "code",
   "execution_count": 122,
   "metadata": {},
   "outputs": [
    {
     "name": "stdout",
     "output_type": "stream",
     "text": [
      "offensive_language\n",
      "Predicted label: offensive_language\n",
      "Word level attention\n",
      "[CLS] 5.507649796844018e-14\n",
      "when 2.9640886967108315e-11\n",
      "yall 1.9336541774978564e-05\n",
      "got 1.033024332741661e-07\n",
      "the 2.101984364344389e-09\n",
      "same 1.225608226018693e-10\n",
      "baby 2.2236170682532475e-09\n",
      "mama 5.635283287119819e-06\n",
      "and 7.186811146198124e-10\n",
      "realize 1.5544503462194825e-09\n",
      "that 1.0151730975849205e-06\n",
      "bitch 0.9997337460517883\n",
      "is 0.00022318511037155986\n",
      "the 1.6775158655946143e-05\n",
      "real 1.8417547664739686e-07\n",
      "enemy 3.333708309405381e-11\n",
      "[SEP] 7.728314654897872e-10\n"
     ]
    }
   ],
   "source": [
    "word_attention,label = model.predict_with_explain(test_tweet,ind2label)\n",
    "print(\"Predicted label: %s\"%label)\n",
    "print(\"Word level attention\")\n",
    "for w in word_attention:\n",
    "    print(w[0],w[1])"
   ]
  },
  {
   "cell_type": "code",
   "execution_count": 123,
   "metadata": {},
   "outputs": [
    {
     "data": {
      "image/png": "[encoded data removed]",
      "text/plain": [
       "<Figure size 640x480 with 1 Axes>"
      ]
     },
     "metadata": {},
     "output_type": "display_data"
    }
   ],
   "source": [
    "scores = []\n",
    "words = []\n",
    "for w,a in word_attention:\n",
    "    scores.append(a)\n",
    "    words.append(w)\n",
    "# scores = np.log(scores)\n",
    "plt.imshow(np.expand_dims(scores,1),cmap='hot')\n",
    "plt.yticks(range(len(words)),words,rotation=0)\n",
    "plt.show()"
   ]
  },
  {
   "cell_type": "code",
   "execution_count": 15,
   "metadata": {},
   "outputs": [
    {
     "name": "stdout",
     "output_type": "stream",
     "text": [
      "[CLS] angelis yep which is messier more dangerous more environmentally unfriendly than their retarded new spouts [SEP]\n"
     ]
    }
   ],
   "source": [
    "decoded = model.encoder_layer.preprocess_layer.decode(tf.squeeze(words,-1)) \n",
    "print(decoded)"
   ]
  },
  {
   "cell_type": "code",
   "execution_count": 34,
   "metadata": {},
   "outputs": [
    {
     "name": "stdout",
     "output_type": "stream",
     "text": [
      "[0] ['[CLS]']\n",
      "[1, 2] ['angel', '##is']\n",
      "[3] ['yep']\n",
      "[4] ['which']\n",
      "[5] ['is']\n",
      "[6, 7] ['mess', '##ier']\n",
      "[8] ['more']\n",
      "[9] ['dangerous']\n",
      "[10] ['more']\n",
      "[11] ['environmentally']\n",
      "[12, 13, 14, 15] ['un', '##fr', '##ien', '##dly']\n",
      "[16] ['than']\n",
      "[17] ['their']\n",
      "[18, 19, 20] ['re', '##tar', '##ded']\n",
      "[21] ['new']\n",
      "[22, 23] ['sp', '##outs']\n",
      "[24] ['[SEP]']\n"
     ]
    }
   ],
   "source": [
    "sub_word_ids = model.encoder_layer.preprocess_layer.encode(test_tweet)\n",
    "sub_word_dict = {}\n",
    "for i,sw in enumerate(sub_word_ids):\n",
    "    sub_word_dict[i] = sw\n",
    "# print(sub_word_dict)\n",
    "word_spans = []\n",
    "subword_list = []\n",
    "for k in sub_word_dict.keys():\n",
    "    sid = sub_word_dict[k]\n",
    "    sub_word = model.encoder_layer.preprocess_layer.convert_ids_to_tokens(sid)\n",
    "    if \"##\" in sub_word:\n",
    "        word_spans[-1].append(k)\n",
    "        subword_list[-1].append(sub_word)\n",
    "    else:\n",
    "        word_spans.append([k])\n",
    "        subword_list.append([sub_word])\n",
    "    # print(k,sid,sub_word)\n",
    "for i,s in zip(word_spans,subword_list):\n",
    "    print(i,s)\n",
    "# all_spans = []\n",
    "# for id_ in word_ids:\n",
    "#     sub_word = model.encoder_layer.preprocess_layer.convert_ids_to_tokens(id_)\n",
    "#     if \"##\" in sub_word:\n",
    "#         all_spans[-1].append(id_)\n",
    "#     else:\n",
    "#         all_spans.append([id_])\n",
    "#     # print(id_,sub_word)\n",
    "# word_span = {}\n",
    "# for i,sp in enumerate(all_spans):\n",
    "#     sub_list = []\n",
    "#     sub_idx = []\n",
    "#     for s in sp:\n",
    "#         sub_word = model.encoder_layer.preprocess_layer.convert_ids_to_tokens(s)\n",
    "#         sub_list.append(sub_word.replace(\"##\",\"\"))\n",
    "#         sub_idx.append(s)\n",
    "#     wd = ''.join(sub_list)\n",
    "#     word_span[str(i)] = {\"word\":wd,\"subword_index\":sub_idx}\n",
    "# print(word_span)\n"
   ]
  }
 ],
 "metadata": {
  "kernelspec": {
   "display_name": "tatras_p310",
   "language": "python",
   "name": "python3"
  },
  "language_info": {
   "codemirror_mode": {
    "name": "ipython",
    "version": 3
   },
   "file_extension": ".py",
   "mimetype": "text/x-python",
   "name": "python",
   "nbconvert_exporter": "python",
   "pygments_lexer": "ipython3",
   "version": "3.10.6"
  },
  "orig_nbformat": 4
 },
 "nbformat": 4,
 "nbformat_minor": 2
}
